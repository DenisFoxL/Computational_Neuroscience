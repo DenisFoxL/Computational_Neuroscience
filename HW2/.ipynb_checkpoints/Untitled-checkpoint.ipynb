{
 "cells": [
  {
   "cell_type": "code",
   "execution_count": 4,
   "id": "f6e07154",
   "metadata": {},
   "outputs": [],
   "source": [
    "import scipy.io as sio"
   ]
  },
  {
   "cell_type": "markdown",
   "id": "198dd70f",
   "metadata": {},
   "source": [
    "# Question 1\n",
    "## Section a"
   ]
  },
  {
   "cell_type": "code",
   "execution_count": 5,
   "id": "1e8ef9db",
   "metadata": {},
   "outputs": [],
   "source": [
    "mat_data1a=sio.loadmat('HW2_1a_data.mat')\n",
    "x=matdata1a['x']\n",
    "y=matdata1a['y']\n",
    "rng=range(-15,15,0.1)\n"
   ]
  },
  {
   "cell_type": "code",
   "execution_count": null,
   "id": "d3ebcaae",
   "metadata": {},
   "outputs": [],
   "source": []
  }
 ],
 "metadata": {
  "kernelspec": {
   "display_name": "Python 3 (ipykernel)",
   "language": "python",
   "name": "python3"
  },
  "language_info": {
   "codemirror_mode": {
    "name": "ipython",
    "version": 3
   },
   "file_extension": ".py",
   "mimetype": "text/x-python",
   "name": "python",
   "nbconvert_exporter": "python",
   "pygments_lexer": "ipython3",
   "version": "3.10.8"
  }
 },
 "nbformat": 4,
 "nbformat_minor": 5
}
